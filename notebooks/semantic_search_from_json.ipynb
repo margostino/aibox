{
 "cells": [
  {
   "cell_type": "code",
   "execution_count": 2,
   "metadata": {
    "collapsed": true,
    "ExecuteTime": {
     "end_time": "2023-06-16T19:57:12.061199Z",
     "start_time": "2023-06-16T19:57:12.057089Z"
    }
   },
   "outputs": [
    {
     "name": "stdout",
     "output_type": "stream",
     "text": [
      "The dotenv extension is already loaded. To reload it, use:\n",
      "  %reload_ext dotenv\n"
     ]
    }
   ],
   "source": [
    "%load_ext dotenv\n",
    "%dotenv\n",
    "import os\n",
    "import json\n",
    "from pathlib import Path\n",
    "from langchain.chat_models import ChatOpenAI\n",
    "\n",
    "#os.environ[\"LANGCHAIN_HANDLER\"] = \"langchain\"\n",
    "openai = ChatOpenAI(model_name=\"gpt-4-0314\", temperature=0)"
   ]
  },
  {
   "cell_type": "code",
   "execution_count": 3,
   "outputs": [],
   "source": [
    "from langchain.document_loaders import JSONLoader\n",
    "from langchain.text_splitter import RecursiveCharacterTextSplitter, CharacterTextSplitter\n",
    "from langchain.indexes import VectorstoreIndexCreator"
   ],
   "metadata": {
    "collapsed": false,
    "ExecuteTime": {
     "end_time": "2023-06-16T19:57:14.175725Z",
     "start_time": "2023-06-16T19:57:14.166900Z"
    }
   }
  },
  {
   "cell_type": "code",
   "execution_count": 4,
   "outputs": [],
   "source": [
    "file_path='../data/gee_catalog.json'\n",
    "loader = JSONLoader(\n",
    "    file_path=file_path,\n",
    "    jq_schema=\".[]\",\n",
    "    # content_key: Optional[str] = None,\n",
    "    # metadata_func: Optional[Callable[[Dict, Dict], Dict]] = None,\n",
    "    text_content=False,\n",
    ")\n",
    "text_splitter = RecursiveCharacterTextSplitter(chunk_size=1000, chunk_overlap=200)\n",
    "index = VectorstoreIndexCreator(text_splitter=text_splitter).from_loaders([loader])"
   ],
   "metadata": {
    "collapsed": false,
    "ExecuteTime": {
     "end_time": "2023-06-16T19:57:25.086787Z",
     "start_time": "2023-06-16T19:57:16.442979Z"
    }
   }
  },
  {
   "cell_type": "code",
   "execution_count": 7,
   "outputs": [
    {
     "data": {
      "text/plain": "'There are 4 titles, and they are:\\n\\n1. Landsat 5 TM Collection 1 Tier 1 Annual BAI Composite\\n2. Landsat 4 TM Collection 1 Tier 1 Annual BAI Composite\\n3. Landsat 4 TM Annual BAI Composite [deprecated]\\n4. Landsat 8 Annual BAI Composite [deprecated]'"
     },
     "execution_count": 7,
     "metadata": {},
     "output_type": "execute_result"
    }
   ],
   "source": [
    "query = \"how many titles are and which ones?\"\n",
    "index.query(query, llm=openai)"
   ],
   "metadata": {
    "collapsed": false,
    "ExecuteTime": {
     "end_time": "2023-06-16T19:59:01.902258Z",
     "start_time": "2023-06-16T19:58:50.011089Z"
    }
   }
  }
 ],
 "metadata": {
  "kernelspec": {
   "display_name": "Python 3",
   "language": "python",
   "name": "python3"
  },
  "language_info": {
   "codemirror_mode": {
    "name": "ipython",
    "version": 2
   },
   "file_extension": ".py",
   "mimetype": "text/x-python",
   "name": "python",
   "nbconvert_exporter": "python",
   "pygments_lexer": "ipython2",
   "version": "2.7.6"
  }
 },
 "nbformat": 4,
 "nbformat_minor": 0
}
